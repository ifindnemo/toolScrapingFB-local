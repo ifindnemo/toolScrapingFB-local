{
 "cells": [
  {
   "cell_type": "markdown",
   "metadata": {},
   "source": [
    "# Đăng nhập\n",
    "### Đăng nhập bằng tay để tránh lộ thông tin cá nhân"
   ]
  },
  {
   "cell_type": "code",
   "execution_count": null,
   "metadata": {},
   "outputs": [],
   "source": [
    "from selenium import webdriver\n",
    "from time import sleep\n",
    "from selenium.webdriver.common.keys import Keys\n",
    "from selenium.webdriver.common.by import By\n",
    "import pickle\n",
    "\n",
    "# 1. Khai bao bien browser\n",
    "driver  = webdriver.Chrome()\n",
    "\n",
    "# 2. Mở thử một trang web\n",
    "driver.get(\"https://www.facebook.com/\")\n",
    "sleep(5)\n",
    "# 3. Điền thông tin vào ô input :3"
   ]
  },
  {
   "cell_type": "code",
   "execution_count": null,
   "metadata": {},
   "outputs": [],
   "source": [
    "# 4. Lưu cookies vào tệp cookies.pkl\n",
    "cookies = driver.get_cookies()  # Lấy cookies từ trình duyệt\n",
    "with open(\"cookies.pkl\", \"wb\") as file:\n",
    "    pickle.dump(cookies, file)\n",
    "    print(\"Cookies đã được lưu vào cookies.pkl\")\n",
    "\n",
    "# 5. Đóng trình duyệt\n",
    "driver.quit()"
   ]
  },
  {
   "cell_type": "markdown",
   "metadata": {},
   "source": [
    "# Kiểm tra xem file cookie có sử dụng được không"
   ]
  },
  {
   "cell_type": "code",
   "execution_count": null,
   "metadata": {},
   "outputs": [],
   "source": [
    "from selenium import webdriver\n",
    "import pickle\n",
    "from time import sleep\n",
    "\n",
    "# 1. Khởi động trình duyệt\n",
    "driver = webdriver.Chrome()\n",
    "\n",
    "# 2. Mở trang Facebook\n",
    "driver.get(\"https://www.facebook.com/\")\n",
    "sleep(3)\n",
    "\n",
    "# 3. Nạp cookies từ tệp\n",
    "with open(\"cookies.pkl\", \"rb\") as file:\n",
    "    cookies = pickle.load(file)\n",
    "    for cookie in cookies:\n",
    "        driver.add_cookie(cookie)\n",
    "\n",
    "# 4. Tải lại trang để kiểm tra đăng nhập\n",
    "driver.refresh()\n",
    "sleep(5)\n",
    "\n",
    "print(\"Đăng nhập tự động thành công bằng cookie!\")\n",
    "\n",
    "# 5. Đóng trình duyệt\n",
    "driver.quit()"
   ]
  }
 ],
 "metadata": {
  "kernelspec": {
   "display_name": ".venv",
   "language": "python",
   "name": "python3"
  },
  "language_info": {
   "name": "python",
   "version": "3.9.7"
  }
 },
 "nbformat": 4,
 "nbformat_minor": 2
}
